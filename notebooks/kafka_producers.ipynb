{
 "cells": [
  {
   "cell_type": "markdown",
   "id": "sonic-version",
   "metadata": {},
   "source": [
    "Please refer to the `kafka_tutorial` notebook for instructions. "
   ]
  },
  {
   "cell_type": "code",
   "execution_count": 1,
   "id": "innovative-circulation",
   "metadata": {},
   "outputs": [],
   "source": [
    "from time import sleep\n",
    "from json import dumps\n",
    "from kafka import KafkaProducer\n",
    "\n",
    "import random"
   ]
  },
  {
   "cell_type": "markdown",
   "id": "contrary-backup",
   "metadata": {},
   "source": [
    "## 1. Simple Kafka Producer\n",
    "\n",
    "In the cell below:\n",
    "\n",
    "* you create a KafkaProducer object that connects of the local instance of Kafka;\n",
    "* you define a way to serialize the data you want to send by trasforming it into a json string and then encoding it to UTF-8;\n",
    "* you send an event every 0.5 seconds with topic named “simple_topic” and the counter of the iteration as data. Instead of the couter, you can send anything."
   ]
  },
  {
   "cell_type": "code",
   "execution_count": 4,
   "id": "quick-discharge",
   "metadata": {},
   "outputs": [],
   "source": [
    "producer = KafkaProducer(\n",
    "    bootstrap_servers=['kafka_broker:9093'],\n",
    "    value_serializer=lambda x: dumps(x).encode('utf-8')\n",
    ")"
   ]
  },
  {
   "cell_type": "code",
   "execution_count": 5,
   "id": "neutral-stack",
   "metadata": {},
   "outputs": [
    {
     "name": "stdout",
     "output_type": "stream",
     "text": [
      "1825\n",
      "4507\n",
      "3658\n",
      "1680\n",
      "9675\n",
      "521\n",
      "1536\n",
      "3812\n",
      "9196\n",
      "8929\n",
      "3612\n",
      "9655\n",
      "107\n",
      "6925\n",
      "4553\n",
      "3528\n",
      "1675\n",
      "6225\n",
      "5882\n",
      "9892\n"
     ]
    }
   ],
   "source": [
    "random.seed(42)\n",
    "\n",
    "for j in range(20):\n",
    "    random_int = random.randint(1, 10000)\n",
    "    print(random_int)    \n",
    "    data = {'random_value': random_int}\n",
    "    producer.send('simple_topic', value=data)"
   ]
  },
  {
   "cell_type": "markdown",
   "id": "brilliant-bacon",
   "metadata": {},
   "source": [
    "## 2. Single producer - multiple consumers"
   ]
  },
  {
   "cell_type": "code",
   "execution_count": 6,
   "id": "exceptional-trick",
   "metadata": {},
   "outputs": [],
   "source": [
    "producer_for_multiple_consumers = KafkaProducer(\n",
    "    bootstrap_servers=['kafka_broker:9093'],\n",
    "    value_serializer=lambda x: dumps(x).encode('utf-8')\n",
    ")"
   ]
  },
  {
   "cell_type": "code",
   "execution_count": 7,
   "id": "balanced-slope",
   "metadata": {},
   "outputs": [
    {
     "name": "stdout",
     "output_type": "stream",
     "text": [
      "8738\n",
      "9355\n",
      "5453\n",
      "5896\n",
      "6416\n",
      "5979\n",
      "6972\n",
      "1071\n",
      "6613\n",
      "5093\n",
      "5787\n",
      "7552\n",
      "2806\n",
      "9906\n",
      "9887\n",
      "3293\n",
      "8609\n",
      "1184\n",
      "882\n",
      "3225\n"
     ]
    }
   ],
   "source": [
    "random.seed(1337)\n",
    "\n",
    "for j in range(20):\n",
    "    random_int = random.randint(1, 10000)\n",
    "    print(random_int)    \n",
    "    data = {'random_value': random_int}\n",
    "    producer_for_multiple_consumers.send('multiple_consumers_topic', value=data)"
   ]
  },
  {
   "cell_type": "code",
   "execution_count": null,
   "id": "technical-peoples",
   "metadata": {},
   "outputs": [],
   "source": []
  }
 ],
 "metadata": {
  "kernelspec": {
   "display_name": "Python 3",
   "language": "python",
   "name": "python3"
  },
  "language_info": {
   "codemirror_mode": {
    "name": "ipython",
    "version": 3
   },
   "file_extension": ".py",
   "mimetype": "text/x-python",
   "name": "python",
   "nbconvert_exporter": "python",
   "pygments_lexer": "ipython3",
   "version": "3.8.6"
  }
 },
 "nbformat": 4,
 "nbformat_minor": 5
}
