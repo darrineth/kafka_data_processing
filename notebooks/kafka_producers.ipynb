{
 "cells": [
  {
   "cell_type": "markdown",
   "id": "sonic-version",
   "metadata": {},
   "source": [
    "Please refer to the `kafka_tutorial` notebook for instructions. "
   ]
  },
  {
   "cell_type": "code",
   "execution_count": null,
   "id": "innovative-circulation",
   "metadata": {},
   "outputs": [],
   "source": [
    "from time import sleep\n",
    "from json import dumps\n",
    "from kafka import KafkaProducer\n",
    "\n",
    "import random"
   ]
  },
  {
   "cell_type": "markdown",
   "id": "contrary-backup",
   "metadata": {},
   "source": [
    "## 1. Simple Kafka Producer\n",
    "\n",
    "In the cell below:\n",
    "\n",
    "* you create a KafkaProducer object that connects of the local instance of Kafka;\n",
    "* you define a way to serialize the data you want to send by trasforming it into a json string and then encoding it to UTF-8;\n",
    "* you send an event every 0.5 seconds with topic named “simple_topic” and the counter of the iteration as data. Instead of the couter, you can send anything."
   ]
  },
  {
   "cell_type": "code",
   "execution_count": null,
   "id": "quick-discharge",
   "metadata": {},
   "outputs": [],
   "source": [
    "producer = KafkaProducer(\n",
    "    bootstrap_servers=['kafka_broker:9093'],\n",
    "    value_serializer=lambda x: dumps(x).encode('utf-8')\n",
    ")"
   ]
  },
  {
   "cell_type": "code",
   "execution_count": null,
   "id": "neutral-stack",
   "metadata": {},
   "outputs": [],
   "source": [
    "random.seed(42)\n",
    "\n",
    "for j in range(20):\n",
    "    random_int = random.randint(1, 10000)\n",
    "    print(random_int)    \n",
    "    data = {'random_value': random_int}\n",
    "    producer.send('simple_topic', value=data)"
   ]
  },
  {
   "cell_type": "markdown",
   "id": "brilliant-bacon",
   "metadata": {},
   "source": [
    "## 2. Single producer - multiple consumers"
   ]
  },
  {
   "cell_type": "code",
   "execution_count": null,
   "id": "exceptional-trick",
   "metadata": {},
   "outputs": [],
   "source": [
    "producer_for_multiple_consumers = KafkaProducer(\n",
    "    bootstrap_servers=['kafka_broker:9093'],\n",
    "    value_serializer=lambda x: dumps(x).encode('utf-8')\n",
    ")"
   ]
  },
  {
   "cell_type": "code",
   "execution_count": null,
   "id": "balanced-slope",
   "metadata": {},
   "outputs": [],
   "source": [
    "random.seed(1337)\n",
    "\n",
    "for j in range(20):\n",
    "    random_int = random.randint(1, 10000)\n",
    "    print(random_int)    \n",
    "    data = {'random_value': random_int}\n",
    "    producer_for_multiple_consumers.send('multiple_consumers_topic', value=data)"
   ]
  }
 ],
 "metadata": {
  "authors": [
   {
    "name": "Rafał Rak"
   },
   {
    "name": "Radosław Chrzanowski"
   }
  ],
  "kernelspec": {
   "display_name": "Python 3",
   "language": "python",
   "name": "python3"
  },
  "language_info": {
   "codemirror_mode": {
    "name": "ipython",
    "version": 3
   },
   "file_extension": ".py",
   "mimetype": "text/x-python",
   "name": "python",
   "nbconvert_exporter": "python",
   "pygments_lexer": "ipython3",
   "version": "3.8.6"
  }
 },
 "nbformat": 4,
 "nbformat_minor": 5
}
